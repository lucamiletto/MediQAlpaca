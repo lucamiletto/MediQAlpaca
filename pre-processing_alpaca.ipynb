{
 "cells": [
  {
   "cell_type": "code",
   "execution_count": null,
   "metadata": {},
   "outputs": [],
   "source": [
    "import json\n",
    "import random\n",
    "from sklearn.model_selection import train_test_split\n",
    "\n",
    "def reformat_json(input_path, output_path):\n",
    "    with open(input_path, 'r') as pq_artificial:\n",
    "        data = json.load(pq_artificial)\n",
    "\n",
    "    pqaa_alpaca = []\n",
    "\n",
    "    for key, value in data.items():\n",
    "        question = value['QUESTION']\n",
    "        contexts = value['CONTEXTS']\n",
    "        labels = value['LABELS']\n",
    "        long_answer = value['LONG_ANSWER']\n",
    "\n",
    "        input_text = \" \".join([f\"{label}: {context}\" for label, context in zip(labels, contexts)])\n",
    "\n",
    "        instruction = f\"{question}\"\n",
    "\n",
    "        formatted_item = {\n",
    "            \"instruction\": instruction,\n",
    "            \"input\": input_text,\n",
    "            \"output\": long_answer\n",
    "        }\n",
    "\n",
    "        pqaa_alpaca.append(formatted_item)\n",
    "\n",
    "    with open(output_path, 'w') as outfile:\n",
    "        json.dump(pqaa_alpaca, outfile, indent=4, ensure_ascii=False)\n",
    "\n",
    "pqau_alpaca = r'C:\\Users\\Ivana\\anaconda3\\envs\\alpaca\\code\\ori_pqau.json'\n",
    "pqau_alpaca_formatted = r'C:\\Users\\Ivana\\anaconda3\\envs\\alpaca\\code\\formatted_pqau.json'\n",
    "pqal_alpaca= r'C:\\Users\\Ivana\\anaconda3\\envs\\alpaca\\code\\ori_pqal.json'\n",
    "pqal_alpaca_formatted = r'C:\\Users\\Ivana\\anaconda3\\envs\\alpaca\\code\\formatted_pqal.json'\n",
    "\n",
    "reformat_json(pqau_alpaca, pqau_alpaca_formatted)\n",
    "reformat_json(pqal_alpaca, pqal_alpaca_formatted)"
   ]
  },
  {
   "cell_type": "code",
   "execution_count": null,
   "metadata": {},
   "outputs": [],
   "source": [
    "\n",
    "def load_json(file_path):\n",
    "    with open(file_path, 'r') as file:\n",
    "        return json.load(file)\n",
    "\n",
    "data_pqau = load_json(r'C:\\Users\\Ivana\\anaconda3\\envs\\alpaca\\code\\formatted_pqau.json')\n",
    "data_pqal = load_json(r'C:\\Users\\Ivana\\anaconda3\\envs\\alpaca\\code\\formatted_pqal.json')\n",
    "\n",
    "data_pqau_subset = random.sample(data_pqau, 24000)\n",
    "\n",
    "combined_data = data_pqau_subset + data_pqal\n",
    "\n",
    "random.shuffle(combined_data)\n",
    "\n",
    "def save_json(data, file_path):\n",
    "    with open(file_path, 'w') as file:\n",
    "        json.dump(data, file, indent=4) \n",
    "\n",
    "save_json(combined_data, r'C:\\Users\\Ivana\\anaconda3\\envs\\alpaca\\code\\pqaul_shuffled_dataset.json')\n",
    "\n"
   ]
  },
  {
   "cell_type": "code",
   "execution_count": null,
   "metadata": {},
   "outputs": [],
   "source": [
    "\n",
    "#divide in train and test \n",
    "train_data, test_data = train_test_split(combined_data, test_size=0.1, random_state=42)\n",
    "\n",
    "#save data in two separate json\n",
    "save_json(train_data, r'C:\\Users\\Ivana\\anaconda3\\envs\\alpaca\\code\\train_data_s.json')\n",
    "save_json(test_data, r'C:\\Users\\Ivana\\anaconda3\\envs\\alpaca\\code\\test_data_s.json')\n",
    "print(len(train_data_s))\n",
    "print(len(test_data_s))"
   ]
  },
  {
   "cell_type": "code",
   "execution_count": null,
   "metadata": {},
   "outputs": [],
   "source": []
  }
 ],
 "metadata": {
  "kernelspec": {
   "display_name": "Python 3",
   "language": "python",
   "name": "python3"
  },
  "language_info": {
   "codemirror_mode": {
    "name": "ipython",
    "version": 3
   },
   "file_extension": ".py",
   "mimetype": "text/x-python",
   "name": "python",
   "nbconvert_exporter": "python",
   "pygments_lexer": "ipython3",
   "version": "3.8.5"
  }
 },
 "nbformat": 4,
 "nbformat_minor": 4
}
